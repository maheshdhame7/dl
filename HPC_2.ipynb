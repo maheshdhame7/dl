{
  "nbformat": 4,
  "nbformat_minor": 0,
  "metadata": {
    "colab": {
      "provenance": [],
      "gpuType": "T4"
    },
    "kernelspec": {
      "name": "python3",
      "display_name": "Python 3"
    },
    "language_info": {
      "name": "python"
    },
    "accelerator": "GPU"
  },
  "cells": [
    {
      "cell_type": "code",
      "execution_count": 20,
      "metadata": {
        "colab": {
          "base_uri": "https://localhost:8080/"
        },
        "id": "kdTdEBsamVn8",
        "outputId": "ec911de2-4c54-492c-e06f-967ea82230c1"
      },
      "outputs": [
        {
          "output_type": "stream",
          "name": "stdout",
          "text": [
            "Overwriting bu.cu\n"
          ]
        }
      ],
      "source": [
        "%%writefile bu.cu\n",
        "#include <iostream>\n",
        "#include <vector>\n",
        "#include <cstdlib>  // For rand()\n",
        "#include <ctime>    // For clock()\n",
        "\n",
        "// Sequential Bubble Sort\n",
        "void bubbleSortSequential(int* arr, int size) {\n",
        "    for (int i = 0; i < size - 1; i++) {\n",
        "        for (int j = 0; j < size - i - 1; j++) {\n",
        "            if (arr[j] > arr[j + 1]) {\n",
        "                int temp = arr[j];\n",
        "                arr[j] = arr[j + 1];\n",
        "                arr[j + 1] = temp;\n",
        "            }\n",
        "        }\n",
        "    }\n",
        "}\n",
        "\n",
        "// Parallel Bubble Sort using CUDA\n",
        "__global__ void bubbleSortParallel(int* arr, int size) {\n",
        "    int tid = blockIdx.x * blockDim.x + threadIdx.x;\n",
        "\n",
        "    if (tid < size) {\n",
        "        for (int i = 0; i < size - 1; i++) {\n",
        "            for (int j = 0; j < size - i - 1; j++) {\n",
        "                if (arr[j] > arr[j + 1]) {\n",
        "                    int temp = arr[j];\n",
        "                    arr[j] = arr[j + 1];\n",
        "                    arr[j + 1] = temp;\n",
        "                }\n",
        "            }\n",
        "        }\n",
        "    }\n",
        "}\n",
        "\n",
        "int main() {\n",
        "    const int size = 1000;\n",
        "    int arr[size];\n",
        "    for (int i = 0; i < size; i++) {\n",
        "        arr[i] = rand() % 1000;  // Random numbers between 0 and 999\n",
        "    }\n",
        "\n",
        "    // Measure sequential bubble sort time\n",
        "    clock_t startSeqBubble = clock();\n",
        "    bubbleSortSequential(arr, size);\n",
        "    clock_t endSeqBubble = clock();\n",
        "    double timeSeqBubble = double(endSeqBubble - startSeqBubble) / CLOCKS_PER_SEC;\n",
        "\n",
        "    // Measure parallel bubble sort time\n",
        "    int* d_arr;\n",
        "    cudaMalloc(&d_arr, size * sizeof(int));\n",
        "    cudaMemcpy(d_arr, arr, size * sizeof(int), cudaMemcpyHostToDevice);\n",
        "\n",
        "    clock_t startParBubble = clock();\n",
        "    bubbleSortParallel<<<(size + 255) / 256, 256>>>(d_arr, size);\n",
        "    cudaDeviceSynchronize();\n",
        "    clock_t endParBubble = clock();\n",
        "    double timeParBubble = double(endParBubble - startParBubble) / CLOCKS_PER_SEC;\n",
        "\n",
        "    // Print execution times\n",
        "    std::cout << \"Sequential Bubble Sort Time: \" << timeSeqBubble << \" seconds\" << std::endl;\n",
        "    std::cout << \"Parallel Bubble Sort Time: \" << timeParBubble << \" seconds\" << std::endl;\n",
        "\n",
        "    // Free device memory\n",
        "    cudaFree(d_arr);\n",
        "\n",
        "    return 0;\n",
        "}\n"
      ]
    },
    {
      "cell_type": "code",
      "source": [
        "!nvcc bu.cu -o bu\n",
        "!./bu"
      ],
      "metadata": {
        "colab": {
          "base_uri": "https://localhost:8080/"
        },
        "id": "O82xIjPNmm25",
        "outputId": "b2366201-6dc2-4813-afcb-971b81d9f399"
      },
      "execution_count": 21,
      "outputs": [
        {
          "output_type": "stream",
          "name": "stdout",
          "text": [
            "Sequential Bubble Sort Time: 0.002099 seconds\n",
            "Parallel Bubble Sort Time: 0.041327 seconds\n"
          ]
        }
      ]
    },
    {
      "cell_type": "code",
      "source": [
        "%%writefile mer.cu\n",
        "#include <iostream>\n",
        "#include <vector>\n",
        "#include <cstdlib>  // For rand()\n",
        "#include <ctime>    // For clock()\n",
        "\n",
        "// Sequential Merge Sort\n",
        "void mergeSortSequential(int* arr, int left, int right) {\n",
        "    if (left < right) {\n",
        "        int mid = left + (right - left) / 2;\n",
        "        mergeSortSequential(arr, left, mid);\n",
        "        mergeSortSequential(arr, mid + 1, right);\n",
        "\n",
        "        // Merge the sorted halves\n",
        "        int temp[right - left + 1];\n",
        "        int i = left, j = mid + 1, k = 0;\n",
        "\n",
        "        while (i <= mid && j <= right) {\n",
        "            if (arr[i] <= arr[j]) {\n",
        "                temp[k++] = arr[i++];\n",
        "            } else {\n",
        "                temp[k++] = arr[j++];\n",
        "            }\n",
        "        }\n",
        "\n",
        "        while (i <= mid) {\n",
        "            temp[k++] = arr[i++];\n",
        "        }\n",
        "\n",
        "        while (j <= right) {\n",
        "            temp[k++] = arr[j++];\n",
        "        }\n",
        "\n",
        "        for (int p = 0; p < k; p++) {\n",
        "            arr[left + p] = temp[p];\n",
        "        }\n",
        "    }\n",
        "}\n",
        "\n",
        "// Parallel Merge Sort using CUDA\n",
        "__global__ void merge(int* arr, int left, int mid, int right, int* temp) {\n",
        "    int tid = blockIdx.x * blockDim.x + threadIdx.x;\n",
        "\n",
        "    int i = left + tid;\n",
        "    int j = mid + 1 + tid;\n",
        "    int k = tid;\n",
        "\n",
        "    while (i <= mid && j <= right) {\n",
        "        if (arr[i] <= arr[j]) {\n",
        "            temp[k] = arr[i];\n",
        "            i += blockDim.x * gridDim.x;\n",
        "        } else {\n",
        "            temp[k] = arr[j];\n",
        "            j += blockDim.x * gridDim.x;\n",
        "        }\n",
        "        k += blockDim.x * gridDim.x;\n",
        "    }\n",
        "\n",
        "    while (i <= mid) {\n",
        "        temp[k] = arr[i];\n",
        "        i += blockDim.x * gridDim.x;\n",
        "        k += blockDim.x * gridDim.x;\n",
        "    }\n",
        "\n",
        "    while (j <= right) {\n",
        "        temp[k] = arr[j];\n",
        "        j += blockDim.x * gridDim.x;\n",
        "        k += blockDim.x * gridDim.x;\n",
        "    }\n",
        "\n",
        "    __syncthreads();\n",
        "\n",
        "    // Copy merged elements back to the original array\n",
        "    for (int idx = tid; idx < k; idx += blockDim.x * gridDim.x) {\n",
        "        arr[left + idx] = temp[idx];\n",
        "    }\n",
        "}\n",
        "\n",
        "void mergeSortParallel(int* arr, int left, int right, int* temp) {\n",
        "    if (left < right) {\n",
        "        int mid = left + (right - left) / 2;\n",
        "        mergeSortParallel(arr, left, mid, temp);\n",
        "        mergeSortParallel(arr, mid + 1, right, temp);\n",
        "        merge<<<1, 1>>>(arr, left, mid, right, temp);\n",
        "    }\n",
        "}\n",
        "\n",
        "// Host function to invoke parallel merge sort\n",
        "void parallelMergeSort(int* arr, int size) {\n",
        "    int* d_arr;\n",
        "    int* d_temp;\n",
        "    cudaMalloc(&d_arr, size * sizeof(int));\n",
        "    cudaMalloc(&d_temp, size * sizeof(int));\n",
        "    cudaMemcpy(d_arr, arr, size * sizeof(int), cudaMemcpyHostToDevice);\n",
        "\n",
        "    int left = 0;\n",
        "    int right = size - 1;\n",
        "\n",
        "    mergeSortParallel(d_arr, left, right, d_temp);\n",
        "    cudaDeviceSynchronize();\n",
        "\n",
        "    cudaMemcpy(arr, d_arr, size * sizeof(int), cudaMemcpyDeviceToHost);\n",
        "\n",
        "    cudaFree(d_arr);\n",
        "    cudaFree(d_temp);\n",
        "}\n",
        "\n",
        "int main() {\n",
        "    const int size = 1000;\n",
        "    int arr[size];\n",
        "    for (int i = 0; i < size; i++) {\n",
        "        arr[i] = rand() % 1000;  // Random numbers between 0 and 999\n",
        "    }\n",
        "\n",
        "    clock_t startSeqMerge = clock();\n",
        "    mergeSortSequential(arr, 0, size - 1);\n",
        "    clock_t endSeqMerge = clock();\n",
        "    double timeSeqMerge = double(endSeqMerge - startSeqMerge) / CLOCKS_PER_SEC;\n",
        "\n",
        "    clock_t startParMerge = clock();\n",
        "    parallelMergeSort(arr, size);\n",
        "    clock_t endParMerge = clock();\n",
        "    double timeParMerge = double(endParMerge - startParMerge) / CLOCKS_PER_SEC;\n",
        "\n",
        "    // Print execution times\n",
        "    std::cout << \"Sequential Merge Sort Time: \" << timeSeqMerge << \" seconds\" << std::endl;\n",
        "    std::cout << \"Parallel Merge Sort Time: \" << timeParMerge << \" seconds\" << std::endl;\n",
        "\n",
        "    return 0;\n",
        "}\n"
      ],
      "metadata": {
        "colab": {
          "base_uri": "https://localhost:8080/"
        },
        "id": "OoOL6bmBo_7n",
        "outputId": "7a52f49b-efcd-402f-88ee-b3442e08ca31"
      },
      "execution_count": 8,
      "outputs": [
        {
          "output_type": "stream",
          "name": "stdout",
          "text": [
            "Writing mer.cu\n"
          ]
        }
      ]
    },
    {
      "cell_type": "code",
      "source": [
        "!nvcc mer.cu -o mer\n",
        "!./mer"
      ],
      "metadata": {
        "colab": {
          "base_uri": "https://localhost:8080/"
        },
        "id": "lcsdV6R6pLLV",
        "outputId": "2160d7e1-8cc7-4fc2-fc0a-c81166350c86"
      },
      "execution_count": 9,
      "outputs": [
        {
          "output_type": "stream",
          "name": "stdout",
          "text": [
            "Sequential Merge Sort Time: 0.000142 seconds\n",
            "Parallel Merge Sort Time: 0.162051 seconds\n"
          ]
        }
      ]
    }
  ]
}