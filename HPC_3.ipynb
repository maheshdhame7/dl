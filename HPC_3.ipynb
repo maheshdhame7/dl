{
  "nbformat": 4,
  "nbformat_minor": 0,
  "metadata": {
    "colab": {
      "provenance": [],
      "gpuType": "T4"
    },
    "kernelspec": {
      "name": "python3",
      "display_name": "Python 3"
    },
    "language_info": {
      "name": "python"
    },
    "accelerator": "GPU"
  },
  "cells": [
    {
      "cell_type": "code",
      "execution_count": 1,
      "metadata": {
        "colab": {
          "base_uri": "https://localhost:8080/"
        },
        "id": "c_pjkd1ahUe2",
        "outputId": "30d4f6e0-1201-47a4-ad4b-cabfad05f38f"
      },
      "outputs": [
        {
          "output_type": "stream",
          "name": "stdout",
          "text": [
            "Writing sum.cu\n"
          ]
        }
      ],
      "source": [
        "%%writefile sum.cu\n",
        "#include <iostream>\n",
        "#include <vector>\n",
        "#include <climits>\n",
        "\n",
        "__global__ void min_reduction_kernel(int* arr, int size, int* result) {\n",
        "    int tid = blockIdx.x * blockDim.x + threadIdx.x;\n",
        "    if (tid < size) {\n",
        "        atomicMin(result, arr[tid]);\n",
        "    }\n",
        "}\n",
        "\n",
        "__global__ void max_reduction_kernel(int* arr, int size, int* result) {\n",
        "    int tid = blockIdx.x * blockDim.x + threadIdx.x;\n",
        "    if (tid < size) {\n",
        "        atomicMax(result, arr[tid]);\n",
        "    }\n",
        "}\n",
        "\n",
        "__global__ void sum_reduction_kernel(int* arr, int size, int* result) {\n",
        "    int tid = blockIdx.x * blockDim.x + threadIdx.x;\n",
        "    if (tid < size) {\n",
        "        atomicAdd(result, arr[tid]);\n",
        "    }\n",
        "}\n",
        "\n",
        "__global__ void average_reduction_kernel(int* arr, int size, int* sum) {\n",
        "    int tid = blockIdx.x * blockDim.x + threadIdx.x;\n",
        "    if (tid < size) {\n",
        "        atomicAdd(sum, arr[tid]);\n",
        "    }\n",
        "}\n",
        "\n",
        "int main() {\n",
        "    int size;\n",
        "    std::cout << \"Enter the size of the array: \";\n",
        "    std::cin >> size;\n",
        "\n",
        "    std::vector<int> arr(size);\n",
        "    for (int i = 0; i < size; ++i) {\n",
        "        std::cout << \"Enter element \" << i << \": \";\n",
        "        std::cin >> arr[i];\n",
        "    }\n",
        "\n",
        "    int* d_arr;\n",
        "    int* d_result;\n",
        "    int result_min = INT_MAX;\n",
        "    int result_max = INT_MIN;\n",
        "    int result_sum = 0;\n",
        "\n",
        "    // Allocate memory on the device\n",
        "    cudaMalloc(&d_arr, size * sizeof(int));\n",
        "    cudaMalloc(&d_result, sizeof(int));\n",
        "\n",
        "    // Copy data from host to device\n",
        "    cudaMemcpy(d_arr, arr.data(), size * sizeof(int), cudaMemcpyHostToDevice);\n",
        "    cudaMemcpy(d_result, &result_min, sizeof(int), cudaMemcpyHostToDevice);\n",
        "\n",
        "    // Perform min reduction\n",
        "    min_reduction_kernel<<<(size + 255) / 256, 256>>>(d_arr, size, d_result);\n",
        "    cudaMemcpy(&result_min, d_result, sizeof(int), cudaMemcpyDeviceToHost);\n",
        "    std::cout << \"Minimum value: \" << result_min << std::endl;\n",
        "\n",
        "    // Perform max reduction\n",
        "    cudaMemcpy(d_result, &result_max, sizeof(int), cudaMemcpyHostToDevice);\n",
        "    max_reduction_kernel<<<(size + 255) / 256, 256>>>(d_arr, size, d_result);\n",
        "    cudaMemcpy(&result_max, d_result, sizeof(int), cudaMemcpyDeviceToHost);\n",
        "    std::cout << \"Maximum value: \" << result_max << std::endl;\n",
        "\n",
        "    // Perform sum reduction\n",
        "    cudaMemcpy(d_result, &result_sum, sizeof(int), cudaMemcpyHostToDevice);\n",
        "    sum_reduction_kernel<<<(size + 255) / 256, 256>>>(d_arr, size, d_result);\n",
        "    cudaMemcpy(&result_sum, d_result, sizeof(int), cudaMemcpyDeviceToHost);\n",
        "    std::cout << \"Sum: \" << result_sum << std::endl;\n",
        "\n",
        "    // Perform average reduction on CPU side\n",
        "    double average = static_cast<double>(result_sum) / size;\n",
        "    std::cout << \"Average: \" << average << std::endl;\n",
        "\n",
        "    // Free device memory\n",
        "    cudaFree(d_arr);\n",
        "    cudaFree(d_result);\n",
        "\n",
        "    return 0;\n",
        "}"
      ]
    },
    {
      "cell_type": "code",
      "source": [
        "!nvcc sum.cu -o sum\n",
        "!./sum"
      ],
      "metadata": {
        "colab": {
          "base_uri": "https://localhost:8080/"
        },
        "id": "dm5Xzz4Fh6yt",
        "outputId": "e0193219-929e-4a2c-9e84-93f31c763121"
      },
      "execution_count": 2,
      "outputs": [
        {
          "output_type": "stream",
          "name": "stdout",
          "text": [
            "Enter the size of the array: 5\n",
            "Enter element 0: 21\n",
            "Enter element 1: 18\n",
            "Enter element 2: 7\n",
            "Enter element 3: 9\n",
            "Enter element 4: 4\n",
            "Minimum value: 4\n",
            "Maximum value: 21\n",
            "Sum: 59\n",
            "Average: 11.8\n"
          ]
        }
      ]
    }
  ]
}